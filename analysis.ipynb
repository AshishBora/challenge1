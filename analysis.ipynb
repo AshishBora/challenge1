{
 "cells": [
  {
   "cell_type": "code",
   "execution_count": 15,
   "metadata": {
    "collapsed": true
   },
   "outputs": [],
   "source": [
    "# Generic imports\n",
    "import numpy as np\n",
    "import matplotlib.pyplot as plt\n",
    "%matplotlib inline"
   ]
  },
  {
   "cell_type": "markdown",
   "metadata": {},
   "source": [
    "### Definitions\n",
    "---\n",
    "    1. Local pixels: All pixels inside an ocountour\n",
    "    2. Inner pixels: All pixels inside an icountour\n",
    "    3. Sandwich pixels: Pixels inside ocountour but not inside icountour\n",
    "    \n",
    "### Objective\n",
    "---\n",
    "    In this task, we want to investigate if thresholding the pixel values can give us a good way to segment inner pixels, given local pixels.\n",
    "    \n",
    "To do this, our approach is to compare the distributions (histograms) of the innner and sandwich pixels."
   ]
  },
  {
   "cell_type": "code",
   "execution_count": null,
   "metadata": {
    "collapsed": true
   },
   "outputs": [],
   "source": []
  },
  {
   "cell_type": "markdown",
   "metadata": {},
   "source": [
    "#### Data collection\n",
    "\n",
    "First, we implement a helper function (using methods from reading.py) to get all datapoints from disk. Then, we implement another function to iterate over these datapoints and collect all inner and sandwich pixels. Please ignore the normalization part for now."
   ]
  },
  {
   "cell_type": "code",
   "execution_count": 16,
   "metadata": {
    "collapsed": true
   },
   "outputs": [],
   "source": [
    "import reading\n",
    "\n",
    "def get_all_datapoints():\n",
    "    \"\"\"Read all datapoints from disk\"\"\"\n",
    "    link_filepath = './final_data/link.csv'\n",
    "    patients = reading.get_patients(link_filepath)\n",
    "\n",
    "    all_datapoints = []\n",
    "    for patient in patients:\n",
    "        datapoints = reading.get_datapoints(patient)\n",
    "        all_datapoints.extend(datapoints)\n",
    "        \n",
    "    return all_datapoints\n",
    "\n",
    "\n",
    "def get_pixels(all_datapoints, normalization):\n",
    "    \"\"\"Function to collect inner and sandwich pixels from all datapoints.\n",
    "\n",
    "    :param all_datapoints: List of reading.Datapoint objects\n",
    "    :param normalization: One of {'none', 'full', 'local'}\n",
    "    \n",
    "    :return: all innner pixels\n",
    "    :return: all sandwich pixels\n",
    "    \"\"\"\n",
    "    \n",
    "    all_inner_pixels = []\n",
    "    all_sandwich_pixels = []\n",
    "    for datapoint in all_datapoints:\n",
    "        dicom = datapoint.dicom\n",
    "        if normalization == 'none':\n",
    "            pass\n",
    "        elif normalization == 'full':\n",
    "            image_mean = np.mean(datapoint.dicom)\n",
    "            image_std = np.std(datapoint.dicom)\n",
    "            dicom = (dicom - image_mean) / image_std       \n",
    "        elif normalization == 'local':\n",
    "            local_mean = np.mean(dicom[datapoint.omask])\n",
    "            local_std = np.std(dicom[datapoint.omask])\n",
    "            dicom = (dicom - local_mean) / local_std   \n",
    "        else:\n",
    "            raise NotImplementedError\n",
    "            \n",
    "        inner_pixels = dicom[datapoint.imask]\n",
    "        all_inner_pixels.extend(inner_pixels)\n",
    "        sandwich_mask = datapoint.omask ^ datapoint.imask  # xor finds sandwich\n",
    "        sandwich_pixels = dicom[sandwich_mask]\n",
    "        all_sandwich_pixels.extend(sandwich_pixels)\n",
    "\n",
    "    # print len(all_inner_pixels)\n",
    "    # print len(all_sandwich_pixels)\n",
    "    return all_inner_pixels, all_sandwich_pixels"
   ]
  },
  {
   "cell_type": "markdown",
   "metadata": {},
   "source": [
    "#### Plotting\n",
    "Now that we can collect the values, let's define a function to plot a histograms of the pixel intensities. This will tell us roughly how separable these two distributions are."
   ]
  },
  {
   "cell_type": "code",
   "execution_count": 13,
   "metadata": {
    "collapsed": true
   },
   "outputs": [],
   "source": [
    "def hist_plot(pixel_labels, num_bins):\n",
    "    \"\"\"Function for histogram plot.\n",
    "\n",
    "    :param pixel_labels: List of (pixels, label) where\n",
    "        pixels is a list of pixel values\n",
    "        label is a string\n",
    "        \n",
    "    :param num_bins: int denoting number of bins for histogram\n",
    "    \"\"\"\n",
    "    for pixels, label in pixel_labels:\n",
    "        plt.hist(pixels, num_bins, label=label, alpha=0.5)"
   ]
  },
  {
   "cell_type": "markdown",
   "metadata": {},
   "source": [
    "Let us now try to use these functions and get the histogram plot"
   ]
  },
  {
   "cell_type": "code",
   "execution_count": 14,
   "metadata": {},
   "outputs": [
    {
     "data": {
      "image/png": "[encoded data removed]",
      "text/plain": [
       "<matplotlib.figure.Figure at 0x10702d9d0>"
      ]
     },
     "metadata": {},
     "output_type": "display_data"
    }
   ],
   "source": [
    "all_datapoints = get_all_datapoints()\n",
    "num_bins = 50\n",
    "normalization = 'none'\n",
    "inner_pixels, sandwich_pixels = get_pixels(all_datapoints, normalization)\n",
    "plt.figure()\n",
    "pixel_labels = [(inner_pixels, 'inner'),\n",
    "                (sandwich_pixels, 'sandwich')]\n",
    "hist_plot(pixel_labels, num_bins)\n",
    "plt.legend()\n",
    "plt.show()"
   ]
  },
  {
   "cell_type": "markdown",
   "metadata": {},
   "source": [
    "This shows a lot of overlap between the two distributions. But they do have some non-trivial separation. But how do we know if this is good? To quantify the separation, we can try to find the best threshold, i.e. the one that gives the best accuracy using only thresholding.\n",
    "\n",
    "So, we implement a function that computes the best threshold and the best accuracy in thresholding.py. A test for this function is provided in thresholding_test.py\n",
    "\n",
    "Now using this function, we can see how well we are doing:"
   ]
  },
  {
   "cell_type": "code",
   "execution_count": 18,
   "metadata": {},
   "outputs": [
    {
     "name": "stdout",
     "output_type": "stream",
     "text": [
      "Accuracy = 77.86 %\n"
     ]
    }
   ],
   "source": [
    "import thresholding\n",
    "\n",
    "thresh, acc = thresholding.find_best_threshold(sandwich_pixels, inner_pixels)\n",
    "print 'Accuracy = {:04.2f} %'.format(acc*100)"
   ]
  },
  {
   "cell_type": "markdown",
   "metadata": {},
   "source": [
    "So, the accuracy is not very good. We now explore some approaches that may be useful for imporoving the separation between the distributions.\n",
    "\n",
    "We see a second smaller bump in both distributions suggesting that the distribution is multimodal. One potential reason for that is the following: all dicom images may not have the same pixel intensity characteristics. For example, some images may be overexposed, so that the mean pixel value is very different. Another reason can be that the contrast (as measured by standard deviation) does not match. We can plot histograms of these two quantities across the images to check if this hypothesis is true:"
   ]
  },
  {
   "cell_type": "code",
   "execution_count": 21,
   "metadata": {},
   "outputs": [
    {
     "data": {
      "image/png": "[encoded data removed]",
      "text/plain": [
       "<matplotlib.figure.Figure at 0x109585290>"
      ]
     },
     "metadata": {},
     "output_type": "display_data"
    },
    {
     "data": {
      "image/png": "[encoded data removed]",
      "text/plain": [
       "<matplotlib.figure.Figure at 0x109579c90>"
      ]
     },
     "metadata": {},
     "output_type": "display_data"
    }
   ],
   "source": [
    "all_datapoints = get_all_datapoints()\n",
    "num_bins = 50\n",
    "normalization = 'none'\n",
    "\n",
    "all_means = []\n",
    "all_stds = []\n",
    "for datapoint in all_datapoints:\n",
    "    mean = np.mean(datapoint.dicom)\n",
    "    std = np.std(datapoint.dicom)\n",
    "    all_means.append(mean)\n",
    "    all_stds.append(std)\n",
    "    \n",
    "num_bins = 20\n",
    "plt.figure()\n",
    "pixel_labels = [(all_means, 'mean')]\n",
    "hist_plot(pixel_labels, num_bins)\n",
    "plt.show()\n",
    "\n",
    "num_bins = 20\n",
    "plt.figure()\n",
    "pixel_labels = [(all_stds, 'std')]\n",
    "hist_plot(pixel_labels, num_bins)"
   ]
  },
  {
   "cell_type": "markdown",
   "metadata": {},
   "source": [
    "As we can see, the mean value for one image can be as large as thrice some other images. Similarly the standard deviation has a 2x variation. This suggests that perhaps normalizing the entire image by first subtracting the mean and then dividing by the standard deviation can potentially improve the distributional separation. We test this now:"
   ]
  },
  {
   "cell_type": "code",
   "execution_count": 27,
   "metadata": {},
   "outputs": [
    {
     "data": {
      "image/png": "[encoded data removed]",
      "text/plain": [
       "<matplotlib.figure.Figure at 0x1096323d0>"
      ]
     },
     "metadata": {},
     "output_type": "display_data"
    }
   ],
   "source": [
    "all_datapoints = get_all_datapoints()\n",
    "num_bins = 50\n",
    "normalization = 'full'\n",
    "inner_pixels, sandwich_pixels = get_pixels(all_datapoints, normalization)\n",
    "plt.figure()\n",
    "pixel_labels = [(inner_pixels, 'inner'),\n",
    "                (sandwich_pixels, 'sandwich')]\n",
    "hist_plot(pixel_labels, num_bins)\n",
    "plt.legend()\n",
    "plt.show()"
   ]
  },
  {
   "cell_type": "markdown",
   "metadata": {},
   "source": [
    "Visually, these distributions look much better than the previous one. The smaller bump is now gone suggesting that we have largely accounted for the multimodality. Let's check how well we do on the accuracy:"
   ]
  },
  {
   "cell_type": "code",
   "execution_count": 28,
   "metadata": {},
   "outputs": [
    {
     "name": "stdout",
     "output_type": "stream",
     "text": [
      "Accuracy = 80.31 %\n"
     ]
    }
   ],
   "source": [
    "thresh, acc = thresholding.find_best_threshold(sandwich_pixels, inner_pixels)\n",
    "print 'Accuracy = {:04.2f} %'.format(acc*100)"
   ]
  },
  {
   "cell_type": "markdown",
   "metadata": {},
   "source": [
    "This is an improvement of about 2.5%. Taking the same idea further, it may be possible that certain regions of the image recieve different kinds of illumination or have different contrast. Thus, instead of considering the full image, we can consider only the local pixels to estimate the mean and the variance and use that for normalization. We now compute the distribtuons under this normalization and the accuracy:"
   ]
  },
  {
   "cell_type": "code",
   "execution_count": 30,
   "metadata": {},
   "outputs": [
    {
     "data": {
      "image/png": "[encoded data removed]",
      "text/plain": [
       "<matplotlib.figure.Figure at 0x10702da50>"
      ]
     },
     "metadata": {},
     "output_type": "display_data"
    },
    {
     "name": "stdout",
     "output_type": "stream",
     "text": [
      "Accuracy = 84.16 %\n"
     ]
    }
   ],
   "source": [
    "all_datapoints = get_all_datapoints()\n",
    "num_bins = 50\n",
    "normalization = 'local'\n",
    "inner_pixels, sandwich_pixels = get_pixels(all_datapoints, normalization)\n",
    "plt.figure()\n",
    "pixel_labels = [(inner_pixels, 'inner'),\n",
    "                (sandwich_pixels, 'sandwich')]\n",
    "hist_plot(pixel_labels, num_bins)\n",
    "plt.legend()\n",
    "plt.show()\n",
    "\n",
    "thresh, acc = thresholding.find_best_threshold(sandwich_pixels, inner_pixels)\n",
    "print 'Accuracy = {:04.2f} %'.format(acc*100)"
   ]
  },
  {
   "cell_type": "markdown",
   "metadata": {},
   "source": [
    "This gives us about 4% improvement in the accuracy! The distributions again seem to have become multimodal revealing that there might be even better ways to cluster or normalize the distributions"
   ]
  },
  {
   "cell_type": "markdown",
   "metadata": {},
   "source": [
    "### Other methods\n",
    "---\n",
    "Here we did an independent decision for each pixel. But we also know thier locations, so we could use that to make a more spatially consistent decision.\n",
    "\n",
    "A possible approach is to define a similarity metric between adjacent pixels based on their values. This can then be used as a weight in a graph where nodes are pixels and adjacent pixels are neighbors. Then we can compute the min-cut to approximate the separation between the inner and sandwich pixels.\n",
    "\n",
    "\n",
    "### Conclusion\n",
    "---\n",
    "\n",
    "We explored if we can do simple thresholding on pixel values to segment inner pixels from sandwich pixels. Our approach was to compute histograms of the two distributions and find the optimal threshold. We also explored a few simple normalization schemes which gave us about 6.5% improvement. Our best model achieves 84.16% accuracy, which is surprisingly high for such a simple algorithm. Finally, discussed a potential algorithm based on min-cut."
   ]
  }
 ],
 "metadata": {
  "kernelspec": {
   "display_name": "Python 2",
   "language": "python",
   "name": "python2"
  },
  "language_info": {
   "codemirror_mode": {
    "name": "ipython",
    "version": 2
   },
   "file_extension": ".py",
   "mimetype": "text/x-python",
   "name": "python",
   "nbconvert_exporter": "python",
   "pygments_lexer": "ipython2",
   "version": "2.7.11"
  }
 },
 "nbformat": 4,
 "nbformat_minor": 2
}
